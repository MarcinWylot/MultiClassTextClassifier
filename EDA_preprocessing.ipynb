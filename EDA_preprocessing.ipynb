{
 "cells": [
  {
   "cell_type": "code",
   "execution_count": 1,
   "metadata": {},
   "outputs": [],
   "source": [
    "import pandas as pd\n",
    "df = pd.read_json(\"C:\\\\Users\\\\martinX1\\\\Downloads\\\\companies.jsons\", lines = True)"
   ]
  },
  {
   "cell_type": "code",
   "execution_count": 2,
   "metadata": {},
   "outputs": [
    {
     "data": {
      "text/html": [
       "<div>\n",
       "<style scoped>\n",
       "    .dataframe tbody tr th:only-of-type {\n",
       "        vertical-align: middle;\n",
       "    }\n",
       "\n",
       "    .dataframe tbody tr th {\n",
       "        vertical-align: top;\n",
       "    }\n",
       "\n",
       "    .dataframe thead th {\n",
       "        text-align: right;\n",
       "    }\n",
       "</style>\n",
       "<table border=\"1\" class=\"dataframe\">\n",
       "  <thead>\n",
       "    <tr style=\"text-align: right;\">\n",
       "      <th></th>\n",
       "      <th>description</th>\n",
       "      <th>html</th>\n",
       "      <th>industry</th>\n",
       "    </tr>\n",
       "  </thead>\n",
       "  <tbody>\n",
       "    <tr>\n",
       "      <th>0</th>\n",
       "      <td>111WebHost.com offers budget and unlimited web...</td>\n",
       "      <td>﻿&lt;!DOCTYPE html PUBLIC \"-//W3C//DTD XHTML 1.0 ...</td>\n",
       "      <td>Internet</td>\n",
       "    </tr>\n",
       "    <tr>\n",
       "      <th>1</th>\n",
       "      <td>We are a direct cash advance provider with fun...</td>\n",
       "      <td>﻿&lt;!DOCTYPE html&gt;\\n\\n&lt;!--// OPEN HTML //--&gt;\\n&lt;h...</td>\n",
       "      <td>Financial Services</td>\n",
       "    </tr>\n",
       "    <tr>\n",
       "      <th>2</th>\n",
       "      <td>Able Investigation &amp; Enforcements are an estab...</td>\n",
       "      <td>﻿&lt;!DOCTYPE html&gt;\\n&lt;html lang=\"en-US\" prefix=\"o...</td>\n",
       "      <td>Legal Services</td>\n",
       "    </tr>\n",
       "    <tr>\n",
       "      <th>3</th>\n",
       "      <td>For over two decades ABM has been known for it...</td>\n",
       "      <td>﻿&lt;!DOCTYPE html&gt;\\n&lt;!--[if lt IE 7 ]&gt; &lt;html cla...</td>\n",
       "      <td>Information Technology and Services</td>\n",
       "    </tr>\n",
       "    <tr>\n",
       "      <th>4</th>\n",
       "      <td>Additionally lets you easily create the best p...</td>\n",
       "      <td>﻿\\r\\n&lt;!DOCTYPE HTML PUBLIC \"-//W3C//DTD HTML 4...</td>\n",
       "      <td>Internet</td>\n",
       "    </tr>\n",
       "  </tbody>\n",
       "</table>\n",
       "</div>"
      ],
      "text/plain": [
       "                                         description  \\\n",
       "0  111WebHost.com offers budget and unlimited web...   \n",
       "1  We are a direct cash advance provider with fun...   \n",
       "2  Able Investigation & Enforcements are an estab...   \n",
       "3  For over two decades ABM has been known for it...   \n",
       "4  Additionally lets you easily create the best p...   \n",
       "\n",
       "                                                html  \\\n",
       "0  ﻿<!DOCTYPE html PUBLIC \"-//W3C//DTD XHTML 1.0 ...   \n",
       "1  ﻿<!DOCTYPE html>\\n\\n<!--// OPEN HTML //-->\\n<h...   \n",
       "2  ﻿<!DOCTYPE html>\\n<html lang=\"en-US\" prefix=\"o...   \n",
       "3  ﻿<!DOCTYPE html>\\n<!--[if lt IE 7 ]> <html cla...   \n",
       "4  ﻿\\r\\n<!DOCTYPE HTML PUBLIC \"-//W3C//DTD HTML 4...   \n",
       "\n",
       "                              industry  \n",
       "0                             Internet  \n",
       "1                   Financial Services  \n",
       "2                       Legal Services  \n",
       "3  Information Technology and Services  \n",
       "4                             Internet  "
      ]
     },
     "execution_count": 2,
     "metadata": {},
     "output_type": "execute_result"
    }
   ],
   "source": [
    "df.head()"
   ]
  },
  {
   "cell_type": "code",
   "execution_count": 3,
   "metadata": {},
   "outputs": [
    {
     "name": "stdout",
     "output_type": "stream",
     "text": [
      "<class 'pandas.core.frame.DataFrame'>\n",
      "RangeIndex: 36947 entries, 0 to 36946\n",
      "Data columns (total 3 columns):\n",
      "description    36947 non-null object\n",
      "html           36947 non-null object\n",
      "industry       36947 non-null object\n",
      "dtypes: object(3)\n",
      "memory usage: 866.0+ KB\n"
     ]
    }
   ],
   "source": [
    "df.info()"
   ]
  },
  {
   "cell_type": "code",
   "execution_count": 4,
   "metadata": {},
   "outputs": [],
   "source": [
    "import re \n",
    "def clean_str(string):\n",
    "    string = re.sub(r'[^a-zA-Z ]+', '', string)\n",
    "    string = re.sub( '\\s+', ' ', string )\n",
    "    return string.strip().lower()"
   ]
  },
  {
   "cell_type": "code",
   "execution_count": 5,
   "metadata": {},
   "outputs": [],
   "source": [
    "from bs4 import BeautifulSoup\n",
    "df['html2text'] = df['html'].apply(lambda x: clean_str(BeautifulSoup(x, \"lxml\").get_text()))\n",
    "df['description'] = df['description'].apply(lambda x: clean_str(x))"
   ]
  },
  {
   "cell_type": "code",
   "execution_count": 6,
   "metadata": {},
   "outputs": [],
   "source": [
    "df['len_description'] = df['description'].str.len()\n",
    "df['len_html'] = df['html'].str.len()\n",
    "df['len_html2text'] = df['html2text'].str.len()"
   ]
  },
  {
   "cell_type": "code",
   "execution_count": 7,
   "metadata": {},
   "outputs": [
    {
     "data": {
      "text/html": [
       "<div>\n",
       "<style scoped>\n",
       "    .dataframe tbody tr th:only-of-type {\n",
       "        vertical-align: middle;\n",
       "    }\n",
       "\n",
       "    .dataframe tbody tr th {\n",
       "        vertical-align: top;\n",
       "    }\n",
       "\n",
       "    .dataframe thead th {\n",
       "        text-align: right;\n",
       "    }\n",
       "</style>\n",
       "<table border=\"1\" class=\"dataframe\">\n",
       "  <thead>\n",
       "    <tr style=\"text-align: right;\">\n",
       "      <th></th>\n",
       "      <th>len_description</th>\n",
       "      <th>len_html</th>\n",
       "      <th>len_html2text</th>\n",
       "    </tr>\n",
       "  </thead>\n",
       "  <tbody>\n",
       "    <tr>\n",
       "      <th>0</th>\n",
       "      <td>598</td>\n",
       "      <td>20508</td>\n",
       "      <td>3254</td>\n",
       "    </tr>\n",
       "    <tr>\n",
       "      <th>1</th>\n",
       "      <td>323</td>\n",
       "      <td>46165</td>\n",
       "      <td>18637</td>\n",
       "    </tr>\n",
       "    <tr>\n",
       "      <th>2</th>\n",
       "      <td>681</td>\n",
       "      <td>31989</td>\n",
       "      <td>11663</td>\n",
       "    </tr>\n",
       "    <tr>\n",
       "      <th>3</th>\n",
       "      <td>1125</td>\n",
       "      <td>13352</td>\n",
       "      <td>1067</td>\n",
       "    </tr>\n",
       "    <tr>\n",
       "      <th>4</th>\n",
       "      <td>160</td>\n",
       "      <td>423</td>\n",
       "      <td>12</td>\n",
       "    </tr>\n",
       "  </tbody>\n",
       "</table>\n",
       "</div>"
      ],
      "text/plain": [
       "   len_description  len_html  len_html2text\n",
       "0              598     20508           3254\n",
       "1              323     46165          18637\n",
       "2              681     31989          11663\n",
       "3             1125     13352           1067\n",
       "4              160       423             12"
      ]
     },
     "execution_count": 7,
     "metadata": {},
     "output_type": "execute_result"
    }
   ],
   "source": [
    "df[['len_description','len_html','len_html2text']].head()"
   ]
  },
  {
   "cell_type": "code",
   "execution_count": 8,
   "metadata": {},
   "outputs": [
    {
     "data": {
      "text/plain": [
       "len_description    142\n",
       "len_html             0\n",
       "len_html2text      638\n",
       "dtype: int64"
      ]
     },
     "execution_count": 8,
     "metadata": {},
     "output_type": "execute_result"
    }
   ],
   "source": [
    "df[['len_description','len_html','len_html2text']].lt(2).sum(axis=0)"
   ]
  },
  {
   "cell_type": "code",
   "execution_count": 9,
   "metadata": {},
   "outputs": [
    {
     "data": {
      "text/html": [
       "<div>\n",
       "<style scoped>\n",
       "    .dataframe tbody tr th:only-of-type {\n",
       "        vertical-align: middle;\n",
       "    }\n",
       "\n",
       "    .dataframe tbody tr th {\n",
       "        vertical-align: top;\n",
       "    }\n",
       "\n",
       "    .dataframe thead th {\n",
       "        text-align: right;\n",
       "    }\n",
       "</style>\n",
       "<table border=\"1\" class=\"dataframe\">\n",
       "  <thead>\n",
       "    <tr style=\"text-align: right;\">\n",
       "      <th></th>\n",
       "      <th>html2text</th>\n",
       "      <th>description</th>\n",
       "      <th>industry</th>\n",
       "    </tr>\n",
       "  </thead>\n",
       "  <tbody>\n",
       "    <tr>\n",
       "      <th>6514</th>\n",
       "      <td>android ios iphoneipadfunction d w c wc wc pus...</td>\n",
       "      <td>it</td>\n",
       "      <td>Computer Software</td>\n",
       "    </tr>\n",
       "    <tr>\n",
       "      <th>12097</th>\n",
       "      <td>documentreadyfunctionnewsinnerfadeanimationtyp...</td>\n",
       "      <td>dd</td>\n",
       "      <td>Graphic Design</td>\n",
       "    </tr>\n",
       "    <tr>\n",
       "      <th>19856</th>\n",
       "      <td>kentucky department of education homepagedocum...</td>\n",
       "      <td>na</td>\n",
       "      <td>Education Management</td>\n",
       "    </tr>\n",
       "    <tr>\n",
       "      <th>1097</th>\n",
       "      <td>imgpng behavior urljspngbehaviorhtc searchtext...</td>\n",
       "      <td>pr</td>\n",
       "      <td>Information Technology and Services</td>\n",
       "    </tr>\n",
       "    <tr>\n",
       "      <th>19857</th>\n",
       "      <td>kentucky department of education homepagedocum...</td>\n",
       "      <td>na</td>\n",
       "      <td>Education Management</td>\n",
       "    </tr>\n",
       "    <tr>\n",
       "      <th>24951</th>\n",
       "      <td>cdata jquery v c jquery foundation inc jqueryo...</td>\n",
       "      <td>it</td>\n",
       "      <td>Information Technology and Services</td>\n",
       "    </tr>\n",
       "    <tr>\n",
       "      <th>29965</th>\n",
       "      <td>functionisogramigoogleanalyticsobjectririrfunc...</td>\n",
       "      <td>rd</td>\n",
       "      <td>Computer Software</td>\n",
       "    </tr>\n",
       "    <tr>\n",
       "      <th>18880</th>\n",
       "      <td>carbackrudocumentwritescript srchttpparkingcre...</td>\n",
       "      <td>c</td>\n",
       "      <td>Internet</td>\n",
       "    </tr>\n",
       "    <tr>\n",
       "      <th>24993</th>\n",
       "      <td>northside realty raleigh ncclick here to see m...</td>\n",
       "      <td>x</td>\n",
       "      <td>Real Estate</td>\n",
       "    </tr>\n",
       "    <tr>\n",
       "      <th>24807</th>\n",
       "      <td>var t jquerynoconflict tdocumentreadyfunction ...</td>\n",
       "      <td>c</td>\n",
       "      <td>Construction</td>\n",
       "    </tr>\n",
       "  </tbody>\n",
       "</table>\n",
       "</div>"
      ],
      "text/plain": [
       "                                               html2text description  \\\n",
       "6514   android ios iphoneipadfunction d w c wc wc pus...          it   \n",
       "12097  documentreadyfunctionnewsinnerfadeanimationtyp...          dd   \n",
       "19856  kentucky department of education homepagedocum...          na   \n",
       "1097   imgpng behavior urljspngbehaviorhtc searchtext...          pr   \n",
       "19857  kentucky department of education homepagedocum...          na   \n",
       "24951  cdata jquery v c jquery foundation inc jqueryo...          it   \n",
       "29965  functionisogramigoogleanalyticsobjectririrfunc...          rd   \n",
       "18880  carbackrudocumentwritescript srchttpparkingcre...           c   \n",
       "24993  northside realty raleigh ncclick here to see m...           x   \n",
       "24807  var t jquerynoconflict tdocumentreadyfunction ...           c   \n",
       "\n",
       "                                  industry  \n",
       "6514                     Computer Software  \n",
       "12097                       Graphic Design  \n",
       "19856                 Education Management  \n",
       "1097   Information Technology and Services  \n",
       "19857                 Education Management  \n",
       "24951  Information Technology and Services  \n",
       "29965                    Computer Software  \n",
       "18880                             Internet  \n",
       "24993                          Real Estate  \n",
       "24807                         Construction  "
      ]
     },
     "execution_count": 9,
     "metadata": {},
     "output_type": "execute_result"
    }
   ],
   "source": [
    "df[df['len_description']  < 3 ].sort_values(by=['len_description'], ascending=False)[['html2text','description','industry']].head(10)"
   ]
  },
  {
   "cell_type": "code",
   "execution_count": 10,
   "metadata": {},
   "outputs": [
    {
     "data": {
      "text/html": [
       "<div>\n",
       "<style scoped>\n",
       "    .dataframe tbody tr th:only-of-type {\n",
       "        vertical-align: middle;\n",
       "    }\n",
       "\n",
       "    .dataframe tbody tr th {\n",
       "        vertical-align: top;\n",
       "    }\n",
       "\n",
       "    .dataframe thead th {\n",
       "        text-align: right;\n",
       "    }\n",
       "</style>\n",
       "<table border=\"1\" class=\"dataframe\">\n",
       "  <thead>\n",
       "    <tr style=\"text-align: right;\">\n",
       "      <th></th>\n",
       "      <th>html2text</th>\n",
       "      <th>description</th>\n",
       "      <th>industry</th>\n",
       "    </tr>\n",
       "  </thead>\n",
       "  <tbody>\n",
       "    <tr>\n",
       "      <th>29441</th>\n",
       "      <td>youth for life</td>\n",
       "      <td>providing real answers for real problems offer...</td>\n",
       "      <td>Health, Wellness and Fitness</td>\n",
       "    </tr>\n",
       "    <tr>\n",
       "      <th>20213</th>\n",
       "      <td>stepchange kft</td>\n",
       "      <td>highly collaborative teamoriented approach to ...</td>\n",
       "      <td>Management Consulting</td>\n",
       "    </tr>\n",
       "    <tr>\n",
       "      <th>18933</th>\n",
       "      <td>kol consulting</td>\n",
       "      <td>vba excel automation incl automation of ms off...</td>\n",
       "      <td>Management Consulting</td>\n",
       "    </tr>\n",
       "    <tr>\n",
       "      <th>18573</th>\n",
       "      <td>kyle frederick</td>\n",
       "      <td>helpful advice from a positive realtor team se...</td>\n",
       "      <td>Real Estate</td>\n",
       "    </tr>\n",
       "    <tr>\n",
       "      <th>35886</th>\n",
       "      <td>e loft a ok ok</td>\n",
       "      <td>baysouth inc is a startup which has finished t...</td>\n",
       "      <td>Internet</td>\n",
       "    </tr>\n",
       "    <tr>\n",
       "      <th>35070</th>\n",
       "      <td>mytampamovecom</td>\n",
       "      <td>i love what i do and it shows i appreciate you...</td>\n",
       "      <td>Real Estate</td>\n",
       "    </tr>\n",
       "    <tr>\n",
       "      <th>11343</th>\n",
       "      <td>httprhhondacom</td>\n",
       "      <td>as a corporate citizen in the richmond hill on...</td>\n",
       "      <td>Automotive</td>\n",
       "    </tr>\n",
       "    <tr>\n",
       "      <th>1725</th>\n",
       "      <td>wwwinsglobalcl</td>\n",
       "      <td>corretaje de seguros de vida y generalesasesor...</td>\n",
       "      <td>Information Technology and Services</td>\n",
       "    </tr>\n",
       "    <tr>\n",
       "      <th>34747</th>\n",
       "      <td>skjervum media</td>\n",
       "      <td>consulting web development web hosting domain ...</td>\n",
       "      <td>Information Technology and Services</td>\n",
       "    </tr>\n",
       "    <tr>\n",
       "      <th>13312</th>\n",
       "      <td>luxcarsleasing</td>\n",
       "      <td>established in in luxembourg lux cars leasing ...</td>\n",
       "      <td>Automotive</td>\n",
       "    </tr>\n",
       "  </tbody>\n",
       "</table>\n",
       "</div>"
      ],
      "text/plain": [
       "            html2text                                        description  \\\n",
       "29441  youth for life  providing real answers for real problems offer...   \n",
       "20213  stepchange kft  highly collaborative teamoriented approach to ...   \n",
       "18933  kol consulting  vba excel automation incl automation of ms off...   \n",
       "18573  kyle frederick  helpful advice from a positive realtor team se...   \n",
       "35886  e loft a ok ok  baysouth inc is a startup which has finished t...   \n",
       "35070  mytampamovecom  i love what i do and it shows i appreciate you...   \n",
       "11343  httprhhondacom  as a corporate citizen in the richmond hill on...   \n",
       "1725   wwwinsglobalcl  corretaje de seguros de vida y generalesasesor...   \n",
       "34747  skjervum media  consulting web development web hosting domain ...   \n",
       "13312  luxcarsleasing  established in in luxembourg lux cars leasing ...   \n",
       "\n",
       "                                  industry  \n",
       "29441         Health, Wellness and Fitness  \n",
       "20213                Management Consulting  \n",
       "18933                Management Consulting  \n",
       "18573                          Real Estate  \n",
       "35886                             Internet  \n",
       "35070                          Real Estate  \n",
       "11343                           Automotive  \n",
       "1725   Information Technology and Services  \n",
       "34747  Information Technology and Services  \n",
       "13312                           Automotive  "
      ]
     },
     "execution_count": 10,
     "metadata": {},
     "output_type": "execute_result"
    }
   ],
   "source": [
    "df[df['len_html2text']  < 15 ].sort_values(by=['len_html2text'], ascending=False)[['html2text','description','industry']].head(10)"
   ]
  },
  {
   "cell_type": "code",
   "execution_count": 12,
   "metadata": {},
   "outputs": [],
   "source": [
    "df['num_words_description'] = df.description.apply(lambda x : len(x.split()))\n",
    "df['num_words_html2text'] = df.html2text.apply(lambda x : len(x.split()))"
   ]
  },
  {
   "cell_type": "code",
   "execution_count": 13,
   "metadata": {},
   "outputs": [
    {
     "data": {
      "text/plain": [
       "<matplotlib.axes._subplots.AxesSubplot at 0x16ce20fb198>"
      ]
     },
     "execution_count": 13,
     "metadata": {},
     "output_type": "execute_result"
    },
    {
     "data": {
      "image/png": "[encoded data removed]",
      "text/plain": [
       "<Figure size 432x288 with 1 Axes>"
      ]
     },
     "metadata": {},
     "output_type": "display_data"
    }
   ],
   "source": [
    "df['num_words_description'].hist()"
   ]
  },
  {
   "cell_type": "code",
   "execution_count": 14,
   "metadata": {},
   "outputs": [
    {
     "data": {
      "text/plain": [
       "<matplotlib.axes._subplots.AxesSubplot at 0x16efaf6a2b0>"
      ]
     },
     "execution_count": 14,
     "metadata": {},
     "output_type": "execute_result"
    },
    {
     "data": {
      "image/png": "[encoded data removed]",
      "text/plain": [
       "<Figure size 432x288 with 1 Axes>"
      ]
     },
     "metadata": {},
     "output_type": "display_data"
    }
   ],
   "source": [
    "df[df['num_words_html2text']  < 1000]['num_words_html2text'].hist()"
   ]
  },
  {
   "cell_type": "code",
   "execution_count": 15,
   "metadata": {},
   "outputs": [
    {
     "data": {
      "text/plain": [
       "Information Technology and Services     2911\n",
       "Marketing and Advertising               2415\n",
       "Internet                                1457\n",
       "Construction                            1373\n",
       "Management Consulting                   1340\n",
       "Real Estate                             1180\n",
       "Financial Services                      1055\n",
       "Computer Software                        945\n",
       "Health, Wellness and Fitness             899\n",
       "Nonprofit Organization Management        872\n",
       "Education Management                     834\n",
       "Design                                   829\n",
       "Hospital & Health Care                   740\n",
       "Retail                                   732\n",
       "Automotive                               655\n",
       "Staffing and Recruiting                  635\n",
       "Professional Training & Coaching         591\n",
       "Law Practice                             580\n",
       "Accounting                               576\n",
       "Food & Beverages                         552\n",
       "Entertainment                            551\n",
       "Human Resources                          546\n",
       "Architecture & Planning                  546\n",
       "Hospitality                              544\n",
       "Telecommunications                       533\n",
       "Events Services                          530\n",
       "Insurance                                513\n",
       "Mechanical or Industrial Engineering     497\n",
       "Leisure, Travel & Tourism                494\n",
       "Oil & Energy                             479\n",
       "                                        ... \n",
       "Higher Education                         372\n",
       "Legal Services                           369\n",
       "Renewables & Environment                 366\n",
       "Graphic Design                           364\n",
       "Publishing                               357\n",
       "Machinery                                347\n",
       "Consumer Services                        336\n",
       "Consumer Goods                           328\n",
       "Photography                              327\n",
       "Music                                    316\n",
       "Transportation/Trucking/Railroad         309\n",
       "Building Materials                       302\n",
       "Public Relations and Communications      285\n",
       "Research                                 274\n",
       "Printing                                 269\n",
       "Wholesale                                264\n",
       "Medical Practice                         264\n",
       "Facilities Services                      256\n",
       "Government Administration                252\n",
       "Medical Devices                          250\n",
       "Civil Engineering                        244\n",
       "Logistics and Supply Chain               240\n",
       "Pharmaceuticals                          225\n",
       "Security and Investigations              223\n",
       "Broadcast Media                          220\n",
       "Civic & Social Organization              217\n",
       "Online Media                             214\n",
       "Furniture                                211\n",
       "E-Learning                               205\n",
       "Biotechnology                            199\n",
       "Name: industry, Length: 65, dtype: int64"
      ]
     },
     "execution_count": 15,
     "metadata": {},
     "output_type": "execute_result"
    }
   ],
   "source": [
    "df['industry'].value_counts()"
   ]
  },
  {
   "cell_type": "markdown",
   "metadata": {},
   "source": [
    "imbalanced data\n",
    "\n",
    "undersampling or oversampling should be tested"
   ]
  },
  {
   "cell_type": "code",
   "execution_count": 16,
   "metadata": {},
   "outputs": [],
   "source": [
    "df['industry_id'] = df['industry'].factorize()[0]"
   ]
  },
  {
   "cell_type": "code",
   "execution_count": 17,
   "metadata": {},
   "outputs": [],
   "source": [
    "df_new = df[['industry_id','industry','len_description','len_html2text','num_words_description','num_words_html2text','description','html2text']]"
   ]
  },
  {
   "cell_type": "code",
   "execution_count": 18,
   "metadata": {},
   "outputs": [
    {
     "name": "stdout",
     "output_type": "stream",
     "text": [
      "<class 'pandas.core.frame.DataFrame'>\n",
      "RangeIndex: 36947 entries, 0 to 36946\n",
      "Data columns (total 8 columns):\n",
      "industry_id              36947 non-null int64\n",
      "industry                 36947 non-null object\n",
      "len_description          36947 non-null int64\n",
      "len_html2text            36947 non-null int64\n",
      "num_words_description    36947 non-null int64\n",
      "num_words_html2text      36947 non-null int64\n",
      "description              36947 non-null object\n",
      "html2text                36947 non-null object\n",
      "dtypes: int64(5), object(3)\n",
      "memory usage: 2.3+ MB\n"
     ]
    }
   ],
   "source": [
    "df_new.info()"
   ]
  },
  {
   "cell_type": "code",
   "execution_count": 19,
   "metadata": {},
   "outputs": [
    {
     "data": {
      "text/html": [
       "<div>\n",
       "<style scoped>\n",
       "    .dataframe tbody tr th:only-of-type {\n",
       "        vertical-align: middle;\n",
       "    }\n",
       "\n",
       "    .dataframe tbody tr th {\n",
       "        vertical-align: top;\n",
       "    }\n",
       "\n",
       "    .dataframe thead th {\n",
       "        text-align: right;\n",
       "    }\n",
       "</style>\n",
       "<table border=\"1\" class=\"dataframe\">\n",
       "  <thead>\n",
       "    <tr style=\"text-align: right;\">\n",
       "      <th></th>\n",
       "      <th>industry_id</th>\n",
       "      <th>len_description</th>\n",
       "      <th>len_html2text</th>\n",
       "      <th>num_words_description</th>\n",
       "      <th>num_words_html2text</th>\n",
       "    </tr>\n",
       "  </thead>\n",
       "  <tbody>\n",
       "    <tr>\n",
       "      <th>count</th>\n",
       "      <td>36947.000000</td>\n",
       "      <td>36947.000000</td>\n",
       "      <td>3.694700e+04</td>\n",
       "      <td>36947.000000</td>\n",
       "      <td>36947.000000</td>\n",
       "    </tr>\n",
       "    <tr>\n",
       "      <th>mean</th>\n",
       "      <td>25.172436</td>\n",
       "      <td>618.874712</td>\n",
       "      <td>9.656588e+03</td>\n",
       "      <td>92.831434</td>\n",
       "      <td>888.910169</td>\n",
       "    </tr>\n",
       "    <tr>\n",
       "      <th>std</th>\n",
       "      <td>18.056125</td>\n",
       "      <td>439.861515</td>\n",
       "      <td>2.512899e+04</td>\n",
       "      <td>66.932018</td>\n",
       "      <td>3737.040759</td>\n",
       "    </tr>\n",
       "    <tr>\n",
       "      <th>min</th>\n",
       "      <td>0.000000</td>\n",
       "      <td>0.000000</td>\n",
       "      <td>0.000000e+00</td>\n",
       "      <td>0.000000</td>\n",
       "      <td>0.000000</td>\n",
       "    </tr>\n",
       "    <tr>\n",
       "      <th>25%</th>\n",
       "      <td>11.000000</td>\n",
       "      <td>287.000000</td>\n",
       "      <td>1.933000e+03</td>\n",
       "      <td>42.000000</td>\n",
       "      <td>167.000000</td>\n",
       "    </tr>\n",
       "    <tr>\n",
       "      <th>50%</th>\n",
       "      <td>22.000000</td>\n",
       "      <td>507.000000</td>\n",
       "      <td>4.543000e+03</td>\n",
       "      <td>76.000000</td>\n",
       "      <td>393.000000</td>\n",
       "    </tr>\n",
       "    <tr>\n",
       "      <th>75%</th>\n",
       "      <td>40.000000</td>\n",
       "      <td>879.000000</td>\n",
       "      <td>9.516000e+03</td>\n",
       "      <td>132.000000</td>\n",
       "      <td>788.000000</td>\n",
       "    </tr>\n",
       "    <tr>\n",
       "      <th>max</th>\n",
       "      <td>64.000000</td>\n",
       "      <td>2267.000000</td>\n",
       "      <td>1.044730e+06</td>\n",
       "      <td>381.000000</td>\n",
       "      <td>239912.000000</td>\n",
       "    </tr>\n",
       "  </tbody>\n",
       "</table>\n",
       "</div>"
      ],
      "text/plain": [
       "        industry_id  len_description  len_html2text  num_words_description  \\\n",
       "count  36947.000000     36947.000000   3.694700e+04           36947.000000   \n",
       "mean      25.172436       618.874712   9.656588e+03              92.831434   \n",
       "std       18.056125       439.861515   2.512899e+04              66.932018   \n",
       "min        0.000000         0.000000   0.000000e+00               0.000000   \n",
       "25%       11.000000       287.000000   1.933000e+03              42.000000   \n",
       "50%       22.000000       507.000000   4.543000e+03              76.000000   \n",
       "75%       40.000000       879.000000   9.516000e+03             132.000000   \n",
       "max       64.000000      2267.000000   1.044730e+06             381.000000   \n",
       "\n",
       "       num_words_html2text  \n",
       "count         36947.000000  \n",
       "mean            888.910169  \n",
       "std            3737.040759  \n",
       "min               0.000000  \n",
       "25%             167.000000  \n",
       "50%             393.000000  \n",
       "75%             788.000000  \n",
       "max          239912.000000  "
      ]
     },
     "execution_count": 19,
     "metadata": {},
     "output_type": "execute_result"
    }
   ],
   "source": [
    "df_new.describe()"
   ]
  },
  {
   "cell_type": "code",
   "execution_count": 20,
   "metadata": {},
   "outputs": [],
   "source": [
    "df_new.to_pickle(\"./preprocessed_data.pkl\")"
   ]
  },
  {
   "cell_type": "code",
   "execution_count": null,
   "metadata": {},
   "outputs": [],
   "source": []
  }
 ],
 "metadata": {
  "kernelspec": {
   "display_name": "Python 3",
   "language": "python",
   "name": "python3"
  },
  "language_info": {
   "codemirror_mode": {
    "name": "ipython",
    "version": 3
   },
   "file_extension": ".py",
   "mimetype": "text/x-python",
   "name": "python",
   "nbconvert_exporter": "python",
   "pygments_lexer": "ipython3",
   "version": "3.6.5"
  }
 },
 "nbformat": 4,
 "nbformat_minor": 2
}
