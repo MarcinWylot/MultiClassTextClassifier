{
  "nbformat": 4,
  "nbformat_minor": 0,
  "metadata": {
    "colab": {
      "name": "model_LSTM.ipynb",
      "version": "0.3.2",
      "provenance": [],
      "collapsed_sections": [],
      "include_colab_link": true
    },
    "kernelspec": {
      "display_name": "Python 3",
      "language": "python",
      "name": "python3"
    },
    "accelerator": "GPU"
  },
  "cells": [
    {
      "cell_type": "markdown",
      "metadata": {
        "id": "view-in-github",
        "colab_type": "text"
      },
      "source": [
        "[View in Colaboratory](https://colab.research.google.com/github/MarcinWylot/MultiClassTextClassifier/blob/master/model_LSTM.ipynb)"
      ]
    },
    {
      "metadata": {
        "id": "dmnFxUrKX5NY",
        "colab_type": "code",
        "colab": {
          "base_uri": "https://localhost:8080/",
          "height": 69
        },
        "outputId": "32db3c1d-360e-4460-ecf0-a4d51a08c470"
      },
      "cell_type": "code",
      "source": [
        "!wget https://www.dropbox.com/s/6mfe1c4tjqjn8d4/preprocessed_data.pkl?dl=1\n",
        "!mv preprocessed_data.pkl?dl=1 preprocessed_data.pkl\n",
        "!ls -lh "
      ],
      "execution_count": 1,
      "outputs": [
        {
          "output_type": "stream",
          "text": [
            "\n",
            "Redirecting output to ‘wget-log’.\n",
            "preprocessed_data.pkl?dl=1  sample_data  wget-log\n"
          ],
          "name": "stdout"
        }
      ]
    },
    {
      "metadata": {
        "id": "EH14iSCFXCGm",
        "colab_type": "code",
        "colab": {}
      },
      "cell_type": "code",
      "source": [
        "import pandas as pd\n",
        "df = pd.read_pickle(\"./preprocessed_data.pkl\")"
      ],
      "execution_count": 0,
      "outputs": []
    },
    {
      "metadata": {
        "id": "611QczlEXCGv",
        "colab_type": "code",
        "colab": {
          "base_uri": "https://localhost:8080/",
          "height": 270
        },
        "outputId": "baa9005d-9ac0-4995-bbca-55c67f0c95b7"
      },
      "cell_type": "code",
      "source": [
        "df['text'] = df['description'].astype(str) + ' ' + df['html2text']\n",
        "df.head()"
      ],
      "execution_count": 5,
      "outputs": [
        {
          "output_type": "execute_result",
          "data": {
            "text/html": [
              "<div>\n",
              "<style scoped>\n",
              "    .dataframe tbody tr th:only-of-type {\n",
              "        vertical-align: middle;\n",
              "    }\n",
              "\n",
              "    .dataframe tbody tr th {\n",
              "        vertical-align: top;\n",
              "    }\n",
              "\n",
              "    .dataframe thead th {\n",
              "        text-align: right;\n",
              "    }\n",
              "</style>\n",
              "<table border=\"1\" class=\"dataframe\">\n",
              "  <thead>\n",
              "    <tr style=\"text-align: right;\">\n",
              "      <th></th>\n",
              "      <th>industry_id</th>\n",
              "      <th>len_description</th>\n",
              "      <th>len_html2text</th>\n",
              "      <th>description</th>\n",
              "      <th>html2text</th>\n",
              "      <th>text</th>\n",
              "    </tr>\n",
              "  </thead>\n",
              "  <tbody>\n",
              "    <tr>\n",
              "      <th>0</th>\n",
              "      <td>0</td>\n",
              "      <td>598</td>\n",
              "      <td>3254</td>\n",
              "      <td>webhostcom offers budget and unlimited web hos...</td>\n",
              "      <td>reliable web hosting services from webhosth fo...</td>\n",
              "      <td>webhostcom offers budget and unlimited web hos...</td>\n",
              "    </tr>\n",
              "    <tr>\n",
              "      <th>1</th>\n",
              "      <td>1</td>\n",
              "      <td>323</td>\n",
              "      <td>18637</td>\n",
              "      <td>we are a direct cash advance provider with fun...</td>\n",
              "      <td>abc merchant funding advanced business capital...</td>\n",
              "      <td>we are a direct cash advance provider with fun...</td>\n",
              "    </tr>\n",
              "    <tr>\n",
              "      <th>2</th>\n",
              "      <td>2</td>\n",
              "      <td>681</td>\n",
              "      <td>11663</td>\n",
              "      <td>able investigation enforcements are an establi...</td>\n",
              "      <td>able investigations bristol based enforcement ...</td>\n",
              "      <td>able investigation enforcements are an establi...</td>\n",
              "    </tr>\n",
              "    <tr>\n",
              "      <th>3</th>\n",
              "      <td>3</td>\n",
              "      <td>1125</td>\n",
              "      <td>1067</td>\n",
              "      <td>for over two decades abm has been known for it...</td>\n",
              "      <td>abm group of companyhome site map client login...</td>\n",
              "      <td>for over two decades abm has been known for it...</td>\n",
              "    </tr>\n",
              "    <tr>\n",
              "      <th>4</th>\n",
              "      <td>0</td>\n",
              "      <td>160</td>\n",
              "      <td>12</td>\n",
              "      <td>additionally lets you easily create the best p...</td>\n",
              "      <td>additionally</td>\n",
              "      <td>additionally lets you easily create the best p...</td>\n",
              "    </tr>\n",
              "  </tbody>\n",
              "</table>\n",
              "</div>"
            ],
            "text/plain": [
              "   industry_id  len_description  len_html2text  \\\n",
              "0            0              598           3254   \n",
              "1            1              323          18637   \n",
              "2            2              681          11663   \n",
              "3            3             1125           1067   \n",
              "4            0              160             12   \n",
              "\n",
              "                                         description  \\\n",
              "0  webhostcom offers budget and unlimited web hos...   \n",
              "1  we are a direct cash advance provider with fun...   \n",
              "2  able investigation enforcements are an establi...   \n",
              "3  for over two decades abm has been known for it...   \n",
              "4  additionally lets you easily create the best p...   \n",
              "\n",
              "                                           html2text  \\\n",
              "0  reliable web hosting services from webhosth fo...   \n",
              "1  abc merchant funding advanced business capital...   \n",
              "2  able investigations bristol based enforcement ...   \n",
              "3  abm group of companyhome site map client login...   \n",
              "4                                       additionally   \n",
              "\n",
              "                                                text  \n",
              "0  webhostcom offers budget and unlimited web hos...  \n",
              "1  we are a direct cash advance provider with fun...  \n",
              "2  able investigation enforcements are an establi...  \n",
              "3  for over two decades abm has been known for it...  \n",
              "4  additionally lets you easily create the best p...  "
            ]
          },
          "metadata": {
            "tags": []
          },
          "execution_count": 5
        }
      ]
    },
    {
      "metadata": {
        "id": "YFVWjCvFXCHO",
        "colab_type": "code",
        "colab": {
          "base_uri": "https://localhost:8080/",
          "height": 34
        },
        "outputId": "f844c54c-c8ab-4a7c-b745-498954b1639f"
      },
      "cell_type": "code",
      "source": [
        "from keras.preprocessing.text import Tokenizer\n",
        "from keras.preprocessing.sequence import pad_sequences\n",
        "tokenizer = Tokenizer()\n",
        "tokenizer.fit_on_texts(df['text'].values)\n",
        "post_seq = tokenizer.texts_to_sequences(df['text'].values)\n",
        "post_seq_padded = pad_sequences(post_seq, maxlen=500)"
      ],
      "execution_count": 6,
      "outputs": [
        {
          "output_type": "stream",
          "text": [
            "Using TensorFlow backend.\n"
          ],
          "name": "stderr"
        }
      ]
    },
    {
      "metadata": {
        "id": "askB03LtXCHZ",
        "colab_type": "code",
        "colab": {}
      },
      "cell_type": "code",
      "source": [
        "from sklearn.model_selection import StratifiedShuffleSplit\n",
        "sss = StratifiedShuffleSplit(n_splits=2, test_size=0.2, random_state=32)\n",
        "for train_index, test_index in sss.split(post_seq_padded, df[\"industry_id\"]):\n",
        "    X_train, X_test = post_seq_padded[train_index], post_seq_padded[test_index]\n",
        "    y_train, y_test = df[\"industry_id\"][train_index], df[\"industry_id\"][test_index]"
      ],
      "execution_count": 0,
      "outputs": []
    },
    {
      "metadata": {
        "id": "1jwSIT-DXCHi",
        "colab_type": "code",
        "colab": {
          "base_uri": "https://localhost:8080/",
          "height": 726
        },
        "outputId": "6d209ce5-4421-45d6-feda-72b0a64289ed"
      },
      "cell_type": "code",
      "source": [
        "from keras.layers import Input, Dense, Dropout, Embedding, LSTM, Flatten\n",
        "from keras.models import Model\n",
        "from keras.callbacks import ModelCheckpoint\n",
        "from keras.utils import to_categorical\n",
        "\n",
        "num_class = len(df[\"industry_id\"].unique())\n",
        "vocab_size = len(tokenizer.word_index) + 1\n",
        "\n",
        "inputs = Input(shape=(500, ))\n",
        "embedding_layer = Embedding(vocab_size,\n",
        "                            128,\n",
        "                            input_length=500)(inputs)\n",
        "\n",
        "x = LSTM(64)(embedding_layer)\n",
        "x = Dense(32, activation='relu')(x)\n",
        "predictions = Dense(num_class, activation='softmax')(x)\n",
        "model = Model(inputs=[inputs], outputs=predictions)\n",
        "model.compile(optimizer='adam',\n",
        "              loss='categorical_crossentropy',\n",
        "              metrics=['acc'])\n",
        "\n",
        "model.summary()\n",
        "filepath=\"weights-rnn.hdf5\"\n",
        "checkpointer = ModelCheckpoint(filepath, monitor='val_acc', verbose=1, save_best_only=True, mode='max')\n",
        "history = model.fit([X_train], batch_size=64, y=to_categorical(y_train), verbose=1, validation_split=0.1, shuffle=True, epochs=5, callbacks=[checkpointer])"
      ],
      "execution_count": 9,
      "outputs": [
        {
          "output_type": "stream",
          "text": [
            "_________________________________________________________________\n",
            "Layer (type)                 Output Shape              Param #   \n",
            "=================================================================\n",
            "input_1 (InputLayer)         (None, 500)               0         \n",
            "_________________________________________________________________\n",
            "embedding_1 (Embedding)      (None, 500, 128)          336702592 \n",
            "_________________________________________________________________\n",
            "lstm_1 (LSTM)                (None, 64)                49408     \n",
            "_________________________________________________________________\n",
            "dense_1 (Dense)              (None, 32)                2080      \n",
            "_________________________________________________________________\n",
            "dense_2 (Dense)              (None, 65)                2145      \n",
            "=================================================================\n",
            "Total params: 336,756,225\n",
            "Trainable params: 336,756,225\n",
            "Non-trainable params: 0\n",
            "_________________________________________________________________\n"
          ],
          "name": "stdout"
        },
        {
          "output_type": "stream",
          "text": [
            "/usr/local/lib/python3.6/dist-packages/tensorflow/python/ops/gradients_impl.py:105: UserWarning: Converting sparse IndexedSlices to a dense Tensor with 336702592 elements. This may consume a large amount of memory.\n",
            "  num_elements)\n"
          ],
          "name": "stderr"
        },
        {
          "output_type": "stream",
          "text": [
            "Train on 26601 samples, validate on 2956 samples\n",
            "Epoch 1/5\n",
            "26601/26601 [==============================] - 1062s 40ms/step - loss: 3.9500 - acc: 0.0775 - val_loss: 3.9113 - val_acc: 0.0812\n",
            "\n",
            "Epoch 00001: val_acc improved from -inf to 0.08119, saving model to weights-rnn.hdf5\n",
            "Epoch 2/5\n",
            "26601/26601 [==============================] - 1045s 39ms/step - loss: 3.6287 - acc: 0.1151 - val_loss: 3.8401 - val_acc: 0.0944\n",
            "\n",
            "Epoch 00002: val_acc improved from 0.08119 to 0.09438, saving model to weights-rnn.hdf5\n",
            "Epoch 3/5\n",
            "26601/26601 [==============================] - 1043s 39ms/step - loss: 2.8269 - acc: 0.2836 - val_loss: 4.2836 - val_acc: 0.0934\n",
            "\n",
            "Epoch 00003: val_acc did not improve from 0.09438\n",
            "Epoch 4/5\n",
            "26601/26601 [==============================] - 1045s 39ms/step - loss: 1.8685 - acc: 0.5137 - val_loss: 4.9199 - val_acc: 0.1120\n",
            "\n",
            "Epoch 00004: val_acc improved from 0.09438 to 0.11198, saving model to weights-rnn.hdf5\n",
            "Epoch 5/5\n",
            "26601/26601 [==============================] - 1048s 39ms/step - loss: 1.2019 - acc: 0.6910 - val_loss: 5.7301 - val_acc: 0.0991\n",
            "\n",
            "Epoch 00005: val_acc did not improve from 0.11198\n"
          ],
          "name": "stdout"
        }
      ]
    },
    {
      "metadata": {
        "id": "Frc8zox6XCHp",
        "colab_type": "code",
        "colab": {
          "base_uri": "https://localhost:8080/",
          "height": 395
        },
        "outputId": "5e258660-c140-4b85-cbe4-2a106a5f1a04"
      },
      "cell_type": "code",
      "source": [
        "import seaborn as sns\n",
        "history_df = pd.DataFrame({'epochs':history.epoch, 'accuracy': history.history['acc'], 'validation_accuracy': history.history['val_acc']})\n",
        "g = sns.pointplot(x=\"epochs\", y=\"accuracy\", data=history_df, fit_reg=False)\n",
        "g = sns.pointplot(x=\"epochs\", y=\"validation_accuracy\", data=history_df, fit_reg=False, color='green')"
      ],
      "execution_count": 10,
      "outputs": [
        {
          "output_type": "stream",
          "text": [
            "/usr/local/lib/python3.6/dist-packages/seaborn/categorical.py:1428: FutureWarning: remove_na is deprecated and is a private function. Do not use.\n",
            "  stat_data = remove_na(group_data)\n"
          ],
          "name": "stderr"
        },
        {
          "output_type": "display_data",
          "data": {
            "image/png": "[encoded data removed]",
            "text/plain": [
              "<matplotlib.figure.Figure at 0x7f49951cf518>"
            ]
          },
          "metadata": {
            "tags": []
          }
        }
      ]
    },
    {
      "metadata": {
        "id": "ym4XH44QXCH_",
        "colab_type": "code",
        "colab": {}
      },
      "cell_type": "code",
      "source": [
        "pred_train = model.predict(X_train)\n",
        "pred_test = model.predict(X_test)"
      ],
      "execution_count": 0,
      "outputs": []
    },
    {
      "metadata": {
        "id": "c8-lZhHUvRBP",
        "colab_type": "code",
        "colab": {}
      },
      "cell_type": "code",
      "source": [
        "import numpy as np\n",
        "pred_train = np.argmax(pred_train, axis=1)\n",
        "pred_test = np.argmax(pred_test, axis=1)"
      ],
      "execution_count": 0,
      "outputs": []
    },
    {
      "metadata": {
        "id": "YLSLSwHovf5w",
        "colab_type": "code",
        "colab": {
          "base_uri": "https://localhost:8080/",
          "height": 138
        },
        "outputId": "2d85d492-7794-45df-9033-5627b5307547"
      },
      "cell_type": "code",
      "source": [
        "from sklearn.metrics import confusion_matrix, accuracy_score\n",
        "confusion_matrix(pred_train, y_train)"
      ],
      "execution_count": 16,
      "outputs": [
        {
          "output_type": "execute_result",
          "data": {
            "text/plain": [
              "array([[889,   5,   0, ...,   0,   0,   2],\n",
              "       [ 29, 672,   0, ...,   2,   0,   0],\n",
              "       [  0,   0, 196, ...,   2,   1,   0],\n",
              "       ...,\n",
              "       [  0,   0,   0, ..., 111,   0,   0],\n",
              "       [  0,   0,   0, ...,   0,  96,   0],\n",
              "       [  0,   0,   0, ...,   0,   1,  32]])"
            ]
          },
          "metadata": {
            "tags": []
          },
          "execution_count": 16
        }
      ]
    },
    {
      "metadata": {
        "id": "OTYXMTkrXCIp",
        "colab_type": "code",
        "colab": {
          "base_uri": "https://localhost:8080/",
          "height": 34
        },
        "outputId": "3d2e870d-c3a4-4b67-8d52-6b9bfc23a69c"
      },
      "cell_type": "code",
      "source": [
        "accuracy_score(y_train, pred_train)"
      ],
      "execution_count": 17,
      "outputs": [
        {
          "output_type": "execute_result",
          "data": {
            "text/plain": [
              "0.7246675914335013"
            ]
          },
          "metadata": {
            "tags": []
          },
          "execution_count": 17
        }
      ]
    },
    {
      "metadata": {
        "id": "wW9cFKDSXCJP",
        "colab_type": "code",
        "colab": {
          "base_uri": "https://localhost:8080/",
          "height": 138
        },
        "outputId": "68764a86-03dd-4bf2-f1b4-51a7462c875b"
      },
      "cell_type": "code",
      "source": [
        "confusion_matrix(pred_test, y_test)"
      ],
      "execution_count": 18,
      "outputs": [
        {
          "output_type": "execute_result",
          "data": {
            "text/plain": [
              "array([[16,  5,  1, ...,  0,  1,  1],\n",
              "       [19, 31,  2, ...,  2,  1,  1],\n",
              "       [ 1,  1,  0, ...,  1,  0,  0],\n",
              "       ...,\n",
              "       [ 0,  2,  0, ...,  2,  0,  0],\n",
              "       [ 1,  0,  0, ...,  1,  0,  1],\n",
              "       [ 0,  0,  0, ...,  0,  0,  0]])"
            ]
          },
          "metadata": {
            "tags": []
          },
          "execution_count": 18
        }
      ]
    },
    {
      "metadata": {
        "id": "CjDj8PGZXCJd",
        "colab_type": "code",
        "colab": {
          "base_uri": "https://localhost:8080/",
          "height": 34
        },
        "outputId": "68a2c19c-8ed8-413a-e6d6-8a81a2d814ed"
      },
      "cell_type": "code",
      "source": [
        "accuracy_score(y_test, pred_test)"
      ],
      "execution_count": 19,
      "outputs": [
        {
          "output_type": "execute_result",
          "data": {
            "text/plain": [
              "0.09959404600811908"
            ]
          },
          "metadata": {
            "tags": []
          },
          "execution_count": 19
        }
      ]
    },
    {
      "metadata": {
        "id": "yZApGDpUXCJm",
        "colab_type": "code",
        "colab": {
          "base_uri": "https://localhost:8080/",
          "height": 2428
        },
        "outputId": "a4a65758-2abc-492d-b0b0-b9ca5fd79354"
      },
      "cell_type": "code",
      "source": [
        "from sklearn import metrics\n",
        "print(metrics.classification_report(y_train, pred_train))\n",
        "print(metrics.classification_report(y_test, pred_test))"
      ],
      "execution_count": 20,
      "outputs": [
        {
          "output_type": "stream",
          "text": [
            "             precision    recall  f1-score   support\n",
            "\n",
            "          0       0.89      0.76      0.82      1165\n",
            "          1       0.69      0.80      0.74       844\n",
            "          2       0.76      0.66      0.71       295\n",
            "          3       0.73      0.87      0.80      2329\n",
            "          4       0.76      0.66      0.70       424\n",
            "          5       0.91      0.67      0.77       395\n",
            "          6       0.69      0.67      0.68       441\n",
            "          7       0.76      0.72      0.74       298\n",
            "          8       0.76      0.72      0.74       461\n",
            "          9       0.84      0.79      0.81       262\n",
            "         10       0.50      0.48      0.49       205\n",
            "         11       0.86      0.76      0.81      1098\n",
            "         12       0.75      0.79      0.77       464\n",
            "         13       0.75      0.73      0.74       442\n",
            "         14       0.71      0.72      0.72       586\n",
            "         15       0.83      0.74      0.79       756\n",
            "         16       0.75      0.85      0.80      1932\n",
            "         17       0.65      0.62      0.63       311\n",
            "         18       0.80      0.59      0.68       174\n",
            "         19       0.69      0.72      0.70       286\n",
            "         20       0.82      0.59      0.69       473\n",
            "         21       0.82      0.64      0.72       253\n",
            "         22       0.92      0.83      0.87       944\n",
            "         23       0.72      0.80      0.76      1072\n",
            "         24       0.59      0.76      0.67       211\n",
            "         25       0.59      0.77      0.67       719\n",
            "         26       0.64      0.63      0.64       326\n",
            "         27       0.72      0.71      0.71       192\n",
            "         28       0.62      0.60      0.61       228\n",
            "         29       0.66      0.74      0.70       663\n",
            "         30       0.75      0.32      0.45       164\n",
            "         31       0.72      0.75      0.74       508\n",
            "         32       0.61      0.47      0.53       269\n",
            "         33       0.78      0.73      0.76       592\n",
            "         34       0.53      0.65      0.58       426\n",
            "         35       0.71      0.75      0.73       437\n",
            "         36       0.86      0.75      0.80       524\n",
            "         37       0.73      0.60      0.66       381\n",
            "         38       0.75      0.62      0.68       278\n",
            "         39       0.69      0.69      0.69       324\n",
            "         40       0.60      0.69      0.64       200\n",
            "         41       0.64      0.76      0.69       410\n",
            "         42       0.87      0.68      0.76       435\n",
            "         43       0.87      0.70      0.78       667\n",
            "         44       0.77      0.53      0.63       176\n",
            "         45       0.84      0.60      0.70       368\n",
            "         46       0.55      0.40      0.47       169\n",
            "         47       0.57      0.75      0.65       180\n",
            "         48       0.55      0.75      0.63       697\n",
            "         49       0.67      0.71      0.69       202\n",
            "         50       0.80      0.70      0.75       437\n",
            "         51       0.64      0.71      0.67       398\n",
            "         52       0.85      0.57      0.68       293\n",
            "         53       0.61      0.72      0.66       242\n",
            "         54       0.61      0.66      0.63       262\n",
            "         55       0.64      0.60      0.62       211\n",
            "         56       0.60      0.75      0.67       383\n",
            "         57       0.69      0.66      0.67       215\n",
            "         58       0.72      0.59      0.65       171\n",
            "         59       0.53      0.74      0.62       291\n",
            "         60       0.58      0.64      0.61       247\n",
            "         61       0.69      0.64      0.67       219\n",
            "         62       0.76      0.57      0.65       195\n",
            "         63       0.73      0.54      0.62       178\n",
            "         64       0.70      0.20      0.31       159\n",
            "\n",
            "avg / total       0.74      0.72      0.72     29557\n",
            "\n",
            "             precision    recall  f1-score   support\n",
            "\n",
            "          0       0.11      0.05      0.07       292\n",
            "          1       0.11      0.15      0.12       211\n",
            "          2       0.00      0.00      0.00        74\n",
            "          3       0.18      0.19      0.19       582\n",
            "          4       0.06      0.08      0.07       106\n",
            "          5       0.14      0.05      0.07        99\n",
            "          6       0.10      0.10      0.10       110\n",
            "          7       0.23      0.15      0.18        74\n",
            "          8       0.16      0.17      0.17       115\n",
            "          9       0.19      0.09      0.12        65\n",
            "         10       0.04      0.06      0.05        51\n",
            "         11       0.13      0.07      0.09       275\n",
            "         12       0.19      0.23      0.21       116\n",
            "         13       0.04      0.04      0.04       110\n",
            "         14       0.07      0.09      0.08       146\n",
            "         15       0.15      0.07      0.09       189\n",
            "         16       0.18      0.17      0.18       483\n",
            "         17       0.03      0.04      0.03        78\n",
            "         18       0.00      0.00      0.00        43\n",
            "         19       0.11      0.08      0.10        71\n",
            "         20       0.06      0.06      0.06       118\n",
            "         21       0.06      0.02      0.02        63\n",
            "         22       0.41      0.25      0.31       236\n",
            "         23       0.07      0.11      0.08       268\n",
            "         24       0.08      0.09      0.09        53\n",
            "         25       0.05      0.10      0.06       180\n",
            "         26       0.03      0.05      0.04        82\n",
            "         27       0.11      0.06      0.08        48\n",
            "         28       0.03      0.05      0.04        57\n",
            "         29       0.06      0.05      0.06       166\n",
            "         30       0.06      0.02      0.03        41\n",
            "         31       0.12      0.11      0.11       127\n",
            "         32       0.03      0.04      0.03        67\n",
            "         33       0.10      0.09      0.10       148\n",
            "         34       0.02      0.05      0.02       107\n",
            "         35       0.04      0.06      0.05       109\n",
            "         36       0.22      0.17      0.19       131\n",
            "         37       0.03      0.01      0.02        95\n",
            "         38       0.12      0.04      0.06        69\n",
            "         39       0.04      0.04      0.04        81\n",
            "         40       0.04      0.04      0.04        50\n",
            "         41       0.20      0.20      0.20       103\n",
            "         42       0.20      0.12      0.15       109\n",
            "         43       0.22      0.13      0.16       167\n",
            "         44       0.04      0.02      0.03        44\n",
            "         45       0.06      0.03      0.04        92\n",
            "         46       0.02      0.02      0.02        42\n",
            "         47       0.03      0.04      0.03        45\n",
            "         48       0.06      0.13      0.08       175\n",
            "         49       0.21      0.22      0.21        50\n",
            "         50       0.15      0.07      0.10       109\n",
            "         51       0.08      0.07      0.08        99\n",
            "         52       0.03      0.01      0.02        73\n",
            "         53       0.01      0.02      0.02        60\n",
            "         54       0.05      0.06      0.06        66\n",
            "         55       0.00      0.00      0.00        53\n",
            "         56       0.08      0.05      0.06        96\n",
            "         57       0.00      0.00      0.00        54\n",
            "         58       0.12      0.07      0.09        43\n",
            "         59       0.01      0.03      0.01        73\n",
            "         60       0.09      0.10      0.09        62\n",
            "         61       0.04      0.04      0.04        55\n",
            "         62       0.12      0.04      0.06        49\n",
            "         63       0.00      0.00      0.00        45\n",
            "         64       0.00      0.00      0.00        40\n",
            "\n",
            "avg / total       0.12      0.10      0.10      7390\n",
            "\n"
          ],
          "name": "stdout"
        }
      ]
    },
    {
      "metadata": {
        "id": "vyExbRXRXCKE",
        "colab_type": "code",
        "colab": {}
      },
      "cell_type": "code",
      "source": [
        ""
      ],
      "execution_count": 0,
      "outputs": []
    }
  ]
}