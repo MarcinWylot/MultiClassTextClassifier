{
  "nbformat": 4,
  "nbformat_minor": 0,
  "metadata": {
    "colab": {
      "name": "model_NN.ipynb",
      "version": "0.3.2",
      "provenance": [],
      "collapsed_sections": [],
      "include_colab_link": true
    },
    "kernelspec": {
      "display_name": "Python 3",
      "language": "python",
      "name": "python3"
    },
    "accelerator": "GPU"
  },
  "cells": [
    {
      "cell_type": "markdown",
      "metadata": {
        "id": "view-in-github",
        "colab_type": "text"
      },
      "source": [
        "[View in Colaboratory](https://colab.research.google.com/github/MarcinWylot/MultiClassTextClassifier/blob/master/model_NN.ipynb)"
      ]
    },
    {
      "metadata": {
        "id": "epscMf3cZMfK",
        "colab_type": "code",
        "colab": {
          "base_uri": "https://localhost:8080/",
          "height": 172
        },
        "outputId": "253edb04-828d-424e-9e04-465482ba4dbe"
      },
      "cell_type": "code",
      "source": [
        "!wget https://www.dropbox.com/s/6mfe1c4tjqjn8d4/preprocessed_data.pkl?dl=1\n",
        "!mv preprocessed_data.pkl?dl=1 preprocessed_data.pkl\n",
        "!ls -lh "
      ],
      "execution_count": 1,
      "outputs": [
        {
          "output_type": "stream",
          "text": [
            "\n",
            "Redirecting output to ‘wget-log.2’.\n",
            "total 4.2G\n",
            "-rw-r--r-- 1 root root 364M Sep 10 13:52 preprocessed_data.pkl\n",
            "drwxr-xr-x 2 root root 4.0K Sep  6 17:46 sample_data\n",
            "-rw-r--r-- 1 root root 3.8G Sep 10 13:21 weights-rnn.hdf5\n",
            "-rw-r--r-- 1 root root  11K Sep 10 12:06 wget-log\n",
            "-rw-r--r-- 1 root root 5.7K Sep 10 12:11 wget-log.1\n",
            "-rw-r--r-- 1 root root 5.0K Sep 10 13:52 wget-log.2\n"
          ],
          "name": "stdout"
        }
      ]
    },
    {
      "metadata": {
        "id": "TaPYDjiHZKPk",
        "colab_type": "code",
        "colab": {}
      },
      "cell_type": "code",
      "source": [
        "import pandas as pd\n",
        "df = pd.read_pickle(\"./preprocessed_data.pkl\")"
      ],
      "execution_count": 0,
      "outputs": []
    },
    {
      "metadata": {
        "id": "bRAs6uUGZKPy",
        "colab_type": "code",
        "colab": {
          "base_uri": "https://localhost:8080/",
          "height": 270
        },
        "outputId": "cd930282-9c86-4bec-e017-44e9c044e901"
      },
      "cell_type": "code",
      "source": [
        "df['text'] = df['description'].astype(str) + ' ' + df['html2text']\n",
        "df.head()"
      ],
      "execution_count": 3,
      "outputs": [
        {
          "output_type": "execute_result",
          "data": {
            "text/html": [
              "<div>\n",
              "<style scoped>\n",
              "    .dataframe tbody tr th:only-of-type {\n",
              "        vertical-align: middle;\n",
              "    }\n",
              "\n",
              "    .dataframe tbody tr th {\n",
              "        vertical-align: top;\n",
              "    }\n",
              "\n",
              "    .dataframe thead th {\n",
              "        text-align: right;\n",
              "    }\n",
              "</style>\n",
              "<table border=\"1\" class=\"dataframe\">\n",
              "  <thead>\n",
              "    <tr style=\"text-align: right;\">\n",
              "      <th></th>\n",
              "      <th>industry_id</th>\n",
              "      <th>len_description</th>\n",
              "      <th>len_html2text</th>\n",
              "      <th>description</th>\n",
              "      <th>html2text</th>\n",
              "      <th>text</th>\n",
              "    </tr>\n",
              "  </thead>\n",
              "  <tbody>\n",
              "    <tr>\n",
              "      <th>0</th>\n",
              "      <td>0</td>\n",
              "      <td>598</td>\n",
              "      <td>3254</td>\n",
              "      <td>webhostcom offers budget and unlimited web hos...</td>\n",
              "      <td>reliable web hosting services from webhosth fo...</td>\n",
              "      <td>webhostcom offers budget and unlimited web hos...</td>\n",
              "    </tr>\n",
              "    <tr>\n",
              "      <th>1</th>\n",
              "      <td>1</td>\n",
              "      <td>323</td>\n",
              "      <td>18637</td>\n",
              "      <td>we are a direct cash advance provider with fun...</td>\n",
              "      <td>abc merchant funding advanced business capital...</td>\n",
              "      <td>we are a direct cash advance provider with fun...</td>\n",
              "    </tr>\n",
              "    <tr>\n",
              "      <th>2</th>\n",
              "      <td>2</td>\n",
              "      <td>681</td>\n",
              "      <td>11663</td>\n",
              "      <td>able investigation enforcements are an establi...</td>\n",
              "      <td>able investigations bristol based enforcement ...</td>\n",
              "      <td>able investigation enforcements are an establi...</td>\n",
              "    </tr>\n",
              "    <tr>\n",
              "      <th>3</th>\n",
              "      <td>3</td>\n",
              "      <td>1125</td>\n",
              "      <td>1067</td>\n",
              "      <td>for over two decades abm has been known for it...</td>\n",
              "      <td>abm group of companyhome site map client login...</td>\n",
              "      <td>for over two decades abm has been known for it...</td>\n",
              "    </tr>\n",
              "    <tr>\n",
              "      <th>4</th>\n",
              "      <td>0</td>\n",
              "      <td>160</td>\n",
              "      <td>12</td>\n",
              "      <td>additionally lets you easily create the best p...</td>\n",
              "      <td>additionally</td>\n",
              "      <td>additionally lets you easily create the best p...</td>\n",
              "    </tr>\n",
              "  </tbody>\n",
              "</table>\n",
              "</div>"
            ],
            "text/plain": [
              "   industry_id  len_description  len_html2text  \\\n",
              "0            0              598           3254   \n",
              "1            1              323          18637   \n",
              "2            2              681          11663   \n",
              "3            3             1125           1067   \n",
              "4            0              160             12   \n",
              "\n",
              "                                         description  \\\n",
              "0  webhostcom offers budget and unlimited web hos...   \n",
              "1  we are a direct cash advance provider with fun...   \n",
              "2  able investigation enforcements are an establi...   \n",
              "3  for over two decades abm has been known for it...   \n",
              "4  additionally lets you easily create the best p...   \n",
              "\n",
              "                                           html2text  \\\n",
              "0  reliable web hosting services from webhosth fo...   \n",
              "1  abc merchant funding advanced business capital...   \n",
              "2  able investigations bristol based enforcement ...   \n",
              "3  abm group of companyhome site map client login...   \n",
              "4                                       additionally   \n",
              "\n",
              "                                                text  \n",
              "0  webhostcom offers budget and unlimited web hos...  \n",
              "1  we are a direct cash advance provider with fun...  \n",
              "2  able investigation enforcements are an establi...  \n",
              "3  for over two decades abm has been known for it...  \n",
              "4  additionally lets you easily create the best p...  "
            ]
          },
          "metadata": {
            "tags": []
          },
          "execution_count": 3
        }
      ]
    },
    {
      "metadata": {
        "id": "MIN70A-QZKQD",
        "colab_type": "code",
        "colab": {
          "base_uri": "https://localhost:8080/",
          "height": 34
        },
        "outputId": "d1d0ae1e-fdbd-4a37-9637-463f929bd47e"
      },
      "cell_type": "code",
      "source": [
        "from keras.preprocessing.text import Tokenizer\n",
        "from keras.preprocessing.sequence import pad_sequences\n",
        "tokenizer = Tokenizer()\n",
        "tokenizer.fit_on_texts(df['text'].values)\n",
        "post_seq = tokenizer.texts_to_sequences(df['text'].values)\n",
        "post_seq_padded = pad_sequences(post_seq, maxlen=500)\n"
      ],
      "execution_count": 4,
      "outputs": [
        {
          "output_type": "stream",
          "text": [
            "Using TensorFlow backend.\n"
          ],
          "name": "stderr"
        }
      ]
    },
    {
      "metadata": {
        "id": "PgZTS8JbZKQL",
        "colab_type": "code",
        "colab": {}
      },
      "cell_type": "code",
      "source": [
        "from sklearn.model_selection import StratifiedShuffleSplit\n",
        "sss = StratifiedShuffleSplit(n_splits=2, test_size=0.2, random_state=32)\n",
        "for train_index, test_index in sss.split(post_seq_padded, df[\"industry_id\"]):\n",
        "    X_train, X_test = post_seq_padded[train_index], post_seq_padded[test_index]\n",
        "    y_train, y_test = df[\"industry_id\"][train_index], df[\"industry_id\"][test_index]"
      ],
      "execution_count": 0,
      "outputs": []
    },
    {
      "metadata": {
        "id": "gtdET44TZKQR",
        "colab_type": "code",
        "colab": {
          "base_uri": "https://localhost:8080/",
          "height": 726
        },
        "outputId": "564541e7-1497-4538-a392-caaf832c423f"
      },
      "cell_type": "code",
      "source": [
        "from keras.layers import Input, Dense, Dropout, Embedding, LSTM, Flatten\n",
        "from keras.models import Model\n",
        "from keras.callbacks import ModelCheckpoint\n",
        "from keras.utils import to_categorical\n",
        "\n",
        "num_class = len(df[\"industry_id\"].unique())\n",
        "vocab_size = len(tokenizer.word_index) + 1\n",
        "\n",
        "inputs = Input(shape=(500, ))\n",
        "embedding_layer = Embedding(vocab_size,128,input_length=500)(inputs)\n",
        "x = Flatten()(embedding_layer)\n",
        "x = Dense(32, activation='relu')(x)\n",
        "\n",
        "predictions = Dense(num_class, activation='softmax')(x)\n",
        "model = Model(inputs=[inputs], outputs=predictions)\n",
        "model.compile(optimizer='adam', loss='categorical_crossentropy', metrics=['acc'])\n",
        "\n",
        "model.summary()\n",
        "filepath=\"weights-nn.hdf5\"\n",
        "checkpointer = ModelCheckpoint(filepath, monitor='val_acc', verbose=1, save_best_only=True, mode='max')\n",
        "history = model.fit([X_train], batch_size=64, y=to_categorical(y_train), verbose=1, validation_split=0.1, shuffle=True, epochs=5, callbacks=[checkpointer])"
      ],
      "execution_count": 7,
      "outputs": [
        {
          "output_type": "stream",
          "text": [
            "_________________________________________________________________\n",
            "Layer (type)                 Output Shape              Param #   \n",
            "=================================================================\n",
            "input_1 (InputLayer)         (None, 500)               0         \n",
            "_________________________________________________________________\n",
            "embedding_1 (Embedding)      (None, 500, 128)          336702592 \n",
            "_________________________________________________________________\n",
            "flatten_1 (Flatten)          (None, 64000)             0         \n",
            "_________________________________________________________________\n",
            "dense_1 (Dense)              (None, 32)                2048032   \n",
            "_________________________________________________________________\n",
            "dense_2 (Dense)              (None, 65)                2145      \n",
            "=================================================================\n",
            "Total params: 338,752,769\n",
            "Trainable params: 338,752,769\n",
            "Non-trainable params: 0\n",
            "_________________________________________________________________\n"
          ],
          "name": "stdout"
        },
        {
          "output_type": "stream",
          "text": [
            "/usr/local/lib/python3.6/dist-packages/tensorflow/python/ops/gradients_impl.py:105: UserWarning: Converting sparse IndexedSlices to a dense Tensor with 336702592 elements. This may consume a large amount of memory.\n",
            "  num_elements)\n"
          ],
          "name": "stderr"
        },
        {
          "output_type": "stream",
          "text": [
            "Train on 26601 samples, validate on 2956 samples\n",
            "Epoch 1/5\n",
            "26601/26601 [==============================] - 169s 6ms/step - loss: 3.6961 - acc: 0.1277 - val_loss: 3.2519 - val_acc: 0.2209\n",
            "\n",
            "Epoch 00001: val_acc improved from -inf to 0.22091, saving model to weights-nn.hdf5\n",
            "Epoch 2/5\n",
            "26601/26601 [==============================] - 157s 6ms/step - loss: 1.2830 - acc: 0.7327 - val_loss: 3.2623 - val_acc: 0.2341\n",
            "\n",
            "Epoch 00002: val_acc improved from 0.22091 to 0.23410, saving model to weights-nn.hdf5\n",
            "Epoch 3/5\n",
            "26601/26601 [==============================] - 157s 6ms/step - loss: 0.2680 - acc: 0.9553 - val_loss: 3.3643 - val_acc: 0.2385\n",
            "\n",
            "Epoch 00003: val_acc improved from 0.23410 to 0.23850, saving model to weights-nn.hdf5\n",
            "Epoch 4/5\n",
            "26601/26601 [==============================] - 158s 6ms/step - loss: 0.1419 - acc: 0.9751 - val_loss: 3.4560 - val_acc: 0.2439\n",
            "\n",
            "Epoch 00004: val_acc improved from 0.23850 to 0.24391, saving model to weights-nn.hdf5\n",
            "Epoch 5/5\n",
            "26601/26601 [==============================] - 157s 6ms/step - loss: 0.1000 - acc: 0.9817 - val_loss: 3.5056 - val_acc: 0.2490\n",
            "\n",
            "Epoch 00005: val_acc improved from 0.24391 to 0.24899, saving model to weights-nn.hdf5\n"
          ],
          "name": "stdout"
        }
      ]
    },
    {
      "metadata": {
        "id": "ihYpYU9YZKQZ",
        "colab_type": "code",
        "colab": {
          "base_uri": "https://localhost:8080/",
          "height": 395
        },
        "outputId": "66731d45-0400-4c03-dc1f-6524f7bea0a8"
      },
      "cell_type": "code",
      "source": [
        "import seaborn as sns\n",
        "history_df = pd.DataFrame({'epochs':history.epoch, 'accuracy': history.history['acc'], 'validation_accuracy': history.history['val_acc']})\n",
        "g = sns.pointplot(x=\"epochs\", y=\"accuracy\", data=history_df, fit_reg=False)\n",
        "g = sns.pointplot(x=\"epochs\", y=\"validation_accuracy\", data=history_df, fit_reg=False, color='green')"
      ],
      "execution_count": 8,
      "outputs": [
        {
          "output_type": "stream",
          "text": [
            "/usr/local/lib/python3.6/dist-packages/seaborn/categorical.py:1428: FutureWarning: remove_na is deprecated and is a private function. Do not use.\n",
            "  stat_data = remove_na(group_data)\n"
          ],
          "name": "stderr"
        },
        {
          "output_type": "display_data",
          "data": {
            "image/png": "[encoded data removed]",
            "text/plain": [
              "<matplotlib.figure.Figure at 0x7fe688906128>"
            ]
          },
          "metadata": {
            "tags": []
          }
        }
      ]
    },
    {
      "metadata": {
        "id": "taUBKDN4ZKQg",
        "colab_type": "code",
        "colab": {}
      },
      "cell_type": "code",
      "source": [
        "pred_train = model.predict(X_train)\n",
        "pred_test = model.predict(X_test)"
      ],
      "execution_count": 0,
      "outputs": []
    },
    {
      "metadata": {
        "id": "62e9uduDwm2I",
        "colab_type": "code",
        "colab": {}
      },
      "cell_type": "code",
      "source": [
        "import numpy as np\n",
        "pred_train = np.argmax(pred_train, axis=1)\n",
        "pred_test = np.argmax(pred_test, axis=1)"
      ],
      "execution_count": 0,
      "outputs": []
    },
    {
      "metadata": {
        "id": "zHG4EEJGZKQm",
        "colab_type": "code",
        "colab": {
          "base_uri": "https://localhost:8080/",
          "height": 138
        },
        "outputId": "5937a233-a75d-484a-cc03-79d8d7b29a6f"
      },
      "cell_type": "code",
      "source": [
        "from sklearn.metrics import confusion_matrix, accuracy_score\n",
        "confusion_matrix(pred_train, y_train)"
      ],
      "execution_count": 11,
      "outputs": [
        {
          "output_type": "execute_result",
          "data": {
            "text/plain": [
              "array([[1048,    2,    1, ...,    0,    0,    0],\n",
              "       [   1,  783,    2, ...,    0,    1,    0],\n",
              "       [   0,    0,  257, ...,    0,    0,    0],\n",
              "       ...,\n",
              "       [   0,    0,    0, ...,  176,    0,    0],\n",
              "       [   1,    0,    0, ...,    0,  157,    1],\n",
              "       [   0,    0,    0, ...,    0,    0,  140]])"
            ]
          },
          "metadata": {
            "tags": []
          },
          "execution_count": 11
        }
      ]
    },
    {
      "metadata": {
        "id": "IGotFvyKZKQw",
        "colab_type": "code",
        "colab": {
          "base_uri": "https://localhost:8080/",
          "height": 34
        },
        "outputId": "de1338e8-5bbd-42e7-c87f-c6810a7c1da2"
      },
      "cell_type": "code",
      "source": [
        "accuracy_score(y_train, pred_train)"
      ],
      "execution_count": 12,
      "outputs": [
        {
          "output_type": "execute_result",
          "data": {
            "text/plain": [
              "0.9127448658524208"
            ]
          },
          "metadata": {
            "tags": []
          },
          "execution_count": 12
        }
      ]
    },
    {
      "metadata": {
        "id": "VQooHkp7ZKQ7",
        "colab_type": "code",
        "colab": {
          "base_uri": "https://localhost:8080/",
          "height": 138
        },
        "outputId": "14b4eb7d-e896-4b88-d7f0-702c29315599"
      },
      "cell_type": "code",
      "source": [
        "confusion_matrix(pred_test, y_test)"
      ],
      "execution_count": 13,
      "outputs": [
        {
          "output_type": "execute_result",
          "data": {
            "text/plain": [
              "array([[28,  4,  0, ...,  0,  1,  0],\n",
              "       [ 3, 73,  2, ...,  0,  0,  0],\n",
              "       [ 0,  0,  3, ...,  0,  0,  0],\n",
              "       ...,\n",
              "       [ 0,  0,  0, ...,  7,  0,  0],\n",
              "       [ 1,  0,  0, ...,  0,  2,  0],\n",
              "       [ 0,  0,  0, ...,  0,  0,  1]])"
            ]
          },
          "metadata": {
            "tags": []
          },
          "execution_count": 13
        }
      ]
    },
    {
      "metadata": {
        "id": "FDcC5Q_vZKRC",
        "colab_type": "code",
        "colab": {
          "base_uri": "https://localhost:8080/",
          "height": 34
        },
        "outputId": "a689708b-0154-4a92-ff32-bbf94fff0695"
      },
      "cell_type": "code",
      "source": [
        "accuracy_score(y_test, pred_test)"
      ],
      "execution_count": 14,
      "outputs": [
        {
          "output_type": "execute_result",
          "data": {
            "text/plain": [
              "0.24343707713125845"
            ]
          },
          "metadata": {
            "tags": []
          },
          "execution_count": 14
        }
      ]
    },
    {
      "metadata": {
        "id": "h6-55sI-ZKRJ",
        "colab_type": "code",
        "colab": {
          "base_uri": "https://localhost:8080/",
          "height": 2428
        },
        "outputId": "03c3f5e6-2b59-4757-ecd7-f297240f35dd"
      },
      "cell_type": "code",
      "source": [
        "from sklearn import metrics\n",
        "print(metrics.classification_report(y_train, pred_train))\n",
        "print(metrics.classification_report(y_train, pred_train))"
      ],
      "execution_count": 15,
      "outputs": [
        {
          "output_type": "stream",
          "text": [
            "             precision    recall  f1-score   support\n",
            "\n",
            "          0       0.94      0.90      0.92      1165\n",
            "          1       0.94      0.93      0.93       844\n",
            "          2       0.97      0.87      0.92       295\n",
            "          3       0.82      0.95      0.88      2329\n",
            "          4       0.98      0.89      0.93       424\n",
            "          5       0.97      0.91      0.94       395\n",
            "          6       0.90      0.89      0.90       441\n",
            "          7       0.85      0.82      0.83       298\n",
            "          8       0.88      0.93      0.91       461\n",
            "          9       0.77      0.92      0.84       262\n",
            "         10       0.98      0.89      0.93       205\n",
            "         11       0.94      0.93      0.94      1098\n",
            "         12       0.92      0.94      0.93       464\n",
            "         13       0.94      0.92      0.93       442\n",
            "         14       0.95      0.90      0.93       586\n",
            "         15       0.90      0.91      0.91       756\n",
            "         16       0.89      0.94      0.91      1932\n",
            "         17       0.94      0.88      0.91       311\n",
            "         18       0.91      0.88      0.89       174\n",
            "         19       0.98      0.90      0.93       286\n",
            "         20       0.97      0.90      0.94       473\n",
            "         21       0.91      0.93      0.92       253\n",
            "         22       0.96      0.96      0.96       944\n",
            "         23       0.86      0.91      0.88      1072\n",
            "         24       0.98      0.89      0.94       211\n",
            "         25       0.86      0.93      0.89       719\n",
            "         26       0.98      0.89      0.93       326\n",
            "         27       0.97      0.89      0.92       192\n",
            "         28       1.00      0.90      0.95       228\n",
            "         29       0.91      0.91      0.91       663\n",
            "         30       0.94      0.88      0.91       164\n",
            "         31       0.97      0.92      0.94       508\n",
            "         32       0.90      0.86      0.88       269\n",
            "         33       0.79      0.93      0.85       592\n",
            "         34       0.96      0.90      0.93       426\n",
            "         35       0.97      0.89      0.93       437\n",
            "         36       0.95      0.93      0.94       524\n",
            "         37       0.92      0.89      0.90       381\n",
            "         38       0.92      0.89      0.90       278\n",
            "         39       0.93      0.93      0.93       324\n",
            "         40       0.96      0.92      0.94       200\n",
            "         41       0.96      0.94      0.95       410\n",
            "         42       0.97      0.92      0.94       435\n",
            "         43       0.94      0.91      0.92       667\n",
            "         44       0.96      0.89      0.92       176\n",
            "         45       0.94      0.88      0.91       368\n",
            "         46       0.99      0.91      0.95       169\n",
            "         47       0.96      0.92      0.94       180\n",
            "         48       0.94      0.90      0.92       697\n",
            "         49       0.84      0.72      0.78       202\n",
            "         50       0.99      0.91      0.95       437\n",
            "         51       0.94      0.87      0.90       398\n",
            "         52       0.84      0.93      0.88       293\n",
            "         53       1.00      0.88      0.93       242\n",
            "         54       0.84      0.90      0.87       262\n",
            "         55       0.95      0.90      0.93       211\n",
            "         56       0.92      0.93      0.92       383\n",
            "         57       0.98      0.87      0.93       215\n",
            "         58       0.90      0.92      0.91       171\n",
            "         59       0.92      0.93      0.92       291\n",
            "         60       0.83      0.92      0.87       247\n",
            "         61       0.81      0.89      0.85       219\n",
            "         62       0.96      0.90      0.93       195\n",
            "         63       0.96      0.88      0.92       178\n",
            "         64       0.99      0.88      0.93       159\n",
            "\n",
            "avg / total       0.92      0.91      0.91     29557\n",
            "\n",
            "             precision    recall  f1-score   support\n",
            "\n",
            "          0       0.94      0.90      0.92      1165\n",
            "          1       0.94      0.93      0.93       844\n",
            "          2       0.97      0.87      0.92       295\n",
            "          3       0.82      0.95      0.88      2329\n",
            "          4       0.98      0.89      0.93       424\n",
            "          5       0.97      0.91      0.94       395\n",
            "          6       0.90      0.89      0.90       441\n",
            "          7       0.85      0.82      0.83       298\n",
            "          8       0.88      0.93      0.91       461\n",
            "          9       0.77      0.92      0.84       262\n",
            "         10       0.98      0.89      0.93       205\n",
            "         11       0.94      0.93      0.94      1098\n",
            "         12       0.92      0.94      0.93       464\n",
            "         13       0.94      0.92      0.93       442\n",
            "         14       0.95      0.90      0.93       586\n",
            "         15       0.90      0.91      0.91       756\n",
            "         16       0.89      0.94      0.91      1932\n",
            "         17       0.94      0.88      0.91       311\n",
            "         18       0.91      0.88      0.89       174\n",
            "         19       0.98      0.90      0.93       286\n",
            "         20       0.97      0.90      0.94       473\n",
            "         21       0.91      0.93      0.92       253\n",
            "         22       0.96      0.96      0.96       944\n",
            "         23       0.86      0.91      0.88      1072\n",
            "         24       0.98      0.89      0.94       211\n",
            "         25       0.86      0.93      0.89       719\n",
            "         26       0.98      0.89      0.93       326\n",
            "         27       0.97      0.89      0.92       192\n",
            "         28       1.00      0.90      0.95       228\n",
            "         29       0.91      0.91      0.91       663\n",
            "         30       0.94      0.88      0.91       164\n",
            "         31       0.97      0.92      0.94       508\n",
            "         32       0.90      0.86      0.88       269\n",
            "         33       0.79      0.93      0.85       592\n",
            "         34       0.96      0.90      0.93       426\n",
            "         35       0.97      0.89      0.93       437\n",
            "         36       0.95      0.93      0.94       524\n",
            "         37       0.92      0.89      0.90       381\n",
            "         38       0.92      0.89      0.90       278\n",
            "         39       0.93      0.93      0.93       324\n",
            "         40       0.96      0.92      0.94       200\n",
            "         41       0.96      0.94      0.95       410\n",
            "         42       0.97      0.92      0.94       435\n",
            "         43       0.94      0.91      0.92       667\n",
            "         44       0.96      0.89      0.92       176\n",
            "         45       0.94      0.88      0.91       368\n",
            "         46       0.99      0.91      0.95       169\n",
            "         47       0.96      0.92      0.94       180\n",
            "         48       0.94      0.90      0.92       697\n",
            "         49       0.84      0.72      0.78       202\n",
            "         50       0.99      0.91      0.95       437\n",
            "         51       0.94      0.87      0.90       398\n",
            "         52       0.84      0.93      0.88       293\n",
            "         53       1.00      0.88      0.93       242\n",
            "         54       0.84      0.90      0.87       262\n",
            "         55       0.95      0.90      0.93       211\n",
            "         56       0.92      0.93      0.92       383\n",
            "         57       0.98      0.87      0.93       215\n",
            "         58       0.90      0.92      0.91       171\n",
            "         59       0.92      0.93      0.92       291\n",
            "         60       0.83      0.92      0.87       247\n",
            "         61       0.81      0.89      0.85       219\n",
            "         62       0.96      0.90      0.93       195\n",
            "         63       0.96      0.88      0.92       178\n",
            "         64       0.99      0.88      0.93       159\n",
            "\n",
            "avg / total       0.92      0.91      0.91     29557\n",
            "\n"
          ],
          "name": "stdout"
        }
      ]
    },
    {
      "metadata": {
        "id": "w-VBz8qGZKRN",
        "colab_type": "code",
        "colab": {}
      },
      "cell_type": "code",
      "source": [
        ""
      ],
      "execution_count": 0,
      "outputs": []
    }
  ]
}